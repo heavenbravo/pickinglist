{
 "cells": [
  {
   "cell_type": "code",
   "execution_count": 127,
   "id": "e8d2e7ce",
   "metadata": {},
   "outputs": [],
   "source": [
    "import numpy as np\n",
    "import pandas as pd\n",
    "import seaborn as sns\n",
    "import matplotlib.pyplot as plt"
   ]
  },
  {
   "cell_type": "code",
   "execution_count": 128,
   "id": "6e1c1557",
   "metadata": {},
   "outputs": [],
   "source": [
    "column_names = ['Location', 'Barcode', 'SKU', 'Item Name', 'Q', 'Unit']"
   ]
  },
  {
   "cell_type": "code",
   "execution_count": 129,
   "id": "02390aec",
   "metadata": {},
   "outputs": [],
   "source": [
    "df = pd.read_csv('073112-1.csv', header = None)\n",
    "df = df.replace(r'\\n','', regex=True)\n",
    "df.columns = column_names"
   ]
  },
  {
   "cell_type": "code",
   "execution_count": 130,
   "id": "359fd460",
   "metadata": {},
   "outputs": [],
   "source": [
    "# DRW为string，Loc为int\n",
    "df['DRW'] = df['Location'].str.split('-').str[2]\n",
    "df['Loc'] = df['DRW'].str.extract('(\\d+)')\n",
    "df['Loc'] = df['Loc'].fillna('1').astype(int)"
   ]
  },
  {
   "cell_type": "code",
   "execution_count": 131,
   "id": "80fe4d93",
   "metadata": {},
   "outputs": [],
   "source": [
    "# 检索每一行，如果df['DRW'] 等于 DR5，将那一行的df['Loc']变为3\n",
    "df.loc[df['DRW'].str.contains('DR5'), 'Loc'] = 3"
   ]
  },
  {
   "cell_type": "code",
   "execution_count": 132,
   "id": "19eb3529",
   "metadata": {},
   "outputs": [],
   "source": [
    "df.loc[df['DRW'].str.contains('REF'), 'Loc'] = 181"
   ]
  },
  {
   "cell_type": "code",
   "execution_count": 133,
   "id": "aa0bde75",
   "metadata": {},
   "outputs": [],
   "source": [
    "# 把 Num从list变为数字（因为有1B-1）\n",
    "df['NUM'] = df['Location'].str.split('-').str[3:]\n",
    "df['NUM1'] = [','.join(map(str, l)) for l in df['NUM']]\n",
    "df.NUM1 = pd.to_numeric(df.NUM1, errors='coerce')"
   ]
  },
  {
   "cell_type": "code",
   "execution_count": 134,
   "id": "e03154ae",
   "metadata": {},
   "outputs": [],
   "source": [
    "#添加映射关系来排序字母\n",
    "mapping_dict = {\n",
    "    'A': 1000,\n",
    "    'B': 2000,\n",
    "    'C': 3000,\n",
    "    'D': 4000,\n",
    "    'F': 5000,\n",
    "    'G': 6000,\n",
    "    'H': 7000,\n",
    "    'I': 8000,\n",
    "    'J': 9000,\n",
    "    'K': 10000,\n",
    "    'L': 11000\n",
    "}\n",
    "df['NUM1'] = df['NUM1'].fillna(df['Location'].str.split('-').str[-2].str[0].map(mapping_dict))"
   ]
  },
  {
   "cell_type": "code",
   "execution_count": 135,
   "id": "90b1c92b",
   "metadata": {},
   "outputs": [],
   "source": [
    "# Sorting\n",
    "df = df.sort_values(['Loc', 'NUM1'], ascending = [True, True])\n",
    "df = df.drop(['NUM', 'NUM1', 'DRW', 'NUM', 'Loc'], axis = 1)"
   ]
  },
  {
   "cell_type": "code",
   "execution_count": 136,
   "id": "1328d16d",
   "metadata": {},
   "outputs": [],
   "source": [
    "df.to_csv('073112-1s.csv')"
   ]
  },
  {
   "cell_type": "code",
   "execution_count": null,
   "id": "fcdabcc7",
   "metadata": {},
   "outputs": [],
   "source": []
  }
 ],
 "metadata": {
  "kernelspec": {
   "display_name": "Python 3 (ipykernel)",
   "language": "python",
   "name": "python3"
  },
  "language_info": {
   "codemirror_mode": {
    "name": "ipython",
    "version": 3
   },
   "file_extension": ".py",
   "mimetype": "text/x-python",
   "name": "python",
   "nbconvert_exporter": "python",
   "pygments_lexer": "ipython3",
   "version": "3.9.7"
  }
 },
 "nbformat": 4,
 "nbformat_minor": 5
}
